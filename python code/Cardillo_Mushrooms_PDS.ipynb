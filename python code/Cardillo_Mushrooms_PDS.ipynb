{
  "nbformat": 4,
  "nbformat_minor": 0,
  "metadata": {
    "colab": {
      "provenance": [],
      "toc_visible": true
    },
    "kernelspec": {
      "name": "python3",
      "display_name": "Python 3"
    },
    "language_info": {
      "name": "python"
    }
  },
  "cells": [
    {
      "cell_type": "markdown",
      "source": [
        "# Executive Summary\n",
        "\n",
        "**Problem:** Friendly Dog Park has a mushroom overgrowth problem. They need a method for park staff to classify any poisonous mushrooms for removal. While about only 1% of mushroom species are toxic, mushroom poisoning in dogs can cause symptoms like vomiting, kidney failure and even result in death. Treatment must be prompt, and veterinary visits can be expensive.  \n",
        "\n",
        "**Solution:** Use a classification model to predict the edibility of mushrooms based on various physical characteristics. With this model as a guide, park staff can inspect the grounds daily prior to park opening and remove any potentially poisonous mushrooms. Guides can also be posted on billboards for park guests to reference and follow."
      ],
      "metadata": {
        "id": "muMzO2z-SBIW"
      }
    },
    {
      "cell_type": "markdown",
      "source": [
        "# Data Import and Pre-Processing"
      ],
      "metadata": {
        "id": "1_9EioMNP2yd"
      }
    },
    {
      "cell_type": "code",
      "source": [
        "!pip3 install -U ucimlrepo"
      ],
      "metadata": {
        "id": "gOzjEiVMy6K4",
        "colab": {
          "base_uri": "https://localhost:8080/"
        },
        "outputId": "41475f1e-6c0d-4136-e22b-2b4442315ff4"
      },
      "execution_count": null,
      "outputs": [
        {
          "output_type": "stream",
          "name": "stdout",
          "text": [
            "Collecting ucimlrepo\n",
            "  Downloading ucimlrepo-0.0.7-py3-none-any.whl.metadata (5.5 kB)\n",
            "Requirement already satisfied: pandas>=1.0.0 in /usr/local/lib/python3.11/dist-packages (from ucimlrepo) (2.2.2)\n",
            "Requirement already satisfied: certifi>=2020.12.5 in /usr/local/lib/python3.11/dist-packages (from ucimlrepo) (2025.1.31)\n",
            "Requirement already satisfied: numpy>=1.23.2 in /usr/local/lib/python3.11/dist-packages (from pandas>=1.0.0->ucimlrepo) (2.0.2)\n",
            "Requirement already satisfied: python-dateutil>=2.8.2 in /usr/local/lib/python3.11/dist-packages (from pandas>=1.0.0->ucimlrepo) (2.8.2)\n",
            "Requirement already satisfied: pytz>=2020.1 in /usr/local/lib/python3.11/dist-packages (from pandas>=1.0.0->ucimlrepo) (2025.2)\n",
            "Requirement already satisfied: tzdata>=2022.7 in /usr/local/lib/python3.11/dist-packages (from pandas>=1.0.0->ucimlrepo) (2025.2)\n",
            "Requirement already satisfied: six>=1.5 in /usr/local/lib/python3.11/dist-packages (from python-dateutil>=2.8.2->pandas>=1.0.0->ucimlrepo) (1.17.0)\n",
            "Downloading ucimlrepo-0.0.7-py3-none-any.whl (8.0 kB)\n",
            "Installing collected packages: ucimlrepo\n",
            "Successfully installed ucimlrepo-0.0.7\n"
          ]
        }
      ]
    },
    {
      "cell_type": "code",
      "source": [
        "'''Imported directly from documentation'''\n",
        "from ucimlrepo import fetch_ucirepo\n",
        "\n",
        "# fetch dataset\n",
        "mushroom = fetch_ucirepo(id=73)\n",
        "\n",
        "# data (as pandas dataframes)\n",
        "X = mushroom.data.features\n",
        "y = mushroom.data.targets\n",
        "\n",
        "# metadata\n",
        "#print(mushroom.metadata)\n",
        "\n",
        "# variable information\n",
        "#print(mushroom.variables)\n",
        "\n",
        "X.info()\n"
      ],
      "metadata": {
        "colab": {
          "base_uri": "https://localhost:8080/"
        },
        "id": "o1lSrWpUJ2h-",
        "outputId": "ebf5cccb-c60a-4a4e-8f62-6f0436db2c8f"
      },
      "execution_count": null,
      "outputs": [
        {
          "output_type": "stream",
          "name": "stdout",
          "text": [
            "<class 'pandas.core.frame.DataFrame'>\n",
            "RangeIndex: 8124 entries, 0 to 8123\n",
            "Data columns (total 22 columns):\n",
            " #   Column                    Non-Null Count  Dtype \n",
            "---  ------                    --------------  ----- \n",
            " 0   cap-shape                 8124 non-null   object\n",
            " 1   cap-surface               8124 non-null   object\n",
            " 2   cap-color                 8124 non-null   object\n",
            " 3   bruises                   8124 non-null   object\n",
            " 4   odor                      8124 non-null   object\n",
            " 5   gill-attachment           8124 non-null   object\n",
            " 6   gill-spacing              8124 non-null   object\n",
            " 7   gill-size                 8124 non-null   object\n",
            " 8   gill-color                8124 non-null   object\n",
            " 9   stalk-shape               8124 non-null   object\n",
            " 10  stalk-root                5644 non-null   object\n",
            " 11  stalk-surface-above-ring  8124 non-null   object\n",
            " 12  stalk-surface-below-ring  8124 non-null   object\n",
            " 13  stalk-color-above-ring    8124 non-null   object\n",
            " 14  stalk-color-below-ring    8124 non-null   object\n",
            " 15  veil-type                 8124 non-null   object\n",
            " 16  veil-color                8124 non-null   object\n",
            " 17  ring-number               8124 non-null   object\n",
            " 18  ring-type                 8124 non-null   object\n",
            " 19  spore-print-color         8124 non-null   object\n",
            " 20  population                8124 non-null   object\n",
            " 21  habitat                   8124 non-null   object\n",
            "dtypes: object(22)\n",
            "memory usage: 1.4+ MB\n"
          ]
        }
      ]
    },
    {
      "cell_type": "code",
      "source": [
        "y.head()"
      ],
      "metadata": {
        "colab": {
          "base_uri": "https://localhost:8080/",
          "height": 206
        },
        "id": "6SWilRCjKKaZ",
        "outputId": "066017d2-31ad-4998-9e7c-6aa444b31de6"
      },
      "execution_count": null,
      "outputs": [
        {
          "output_type": "execute_result",
          "data": {
            "text/plain": [
              "  poisonous\n",
              "0         p\n",
              "1         e\n",
              "2         e\n",
              "3         p\n",
              "4         e"
            ],
            "text/html": [
              "\n",
              "  <div id=\"df-733fdc9f-35c4-4850-8587-5cd9cc74858a\" class=\"colab-df-container\">\n",
              "    <div>\n",
              "<style scoped>\n",
              "    .dataframe tbody tr th:only-of-type {\n",
              "        vertical-align: middle;\n",
              "    }\n",
              "\n",
              "    .dataframe tbody tr th {\n",
              "        vertical-align: top;\n",
              "    }\n",
              "\n",
              "    .dataframe thead th {\n",
              "        text-align: right;\n",
              "    }\n",
              "</style>\n",
              "<table border=\"1\" class=\"dataframe\">\n",
              "  <thead>\n",
              "    <tr style=\"text-align: right;\">\n",
              "      <th></th>\n",
              "      <th>poisonous</th>\n",
              "    </tr>\n",
              "  </thead>\n",
              "  <tbody>\n",
              "    <tr>\n",
              "      <th>0</th>\n",
              "      <td>p</td>\n",
              "    </tr>\n",
              "    <tr>\n",
              "      <th>1</th>\n",
              "      <td>e</td>\n",
              "    </tr>\n",
              "    <tr>\n",
              "      <th>2</th>\n",
              "      <td>e</td>\n",
              "    </tr>\n",
              "    <tr>\n",
              "      <th>3</th>\n",
              "      <td>p</td>\n",
              "    </tr>\n",
              "    <tr>\n",
              "      <th>4</th>\n",
              "      <td>e</td>\n",
              "    </tr>\n",
              "  </tbody>\n",
              "</table>\n",
              "</div>\n",
              "    <div class=\"colab-df-buttons\">\n",
              "\n",
              "  <div class=\"colab-df-container\">\n",
              "    <button class=\"colab-df-convert\" onclick=\"convertToInteractive('df-733fdc9f-35c4-4850-8587-5cd9cc74858a')\"\n",
              "            title=\"Convert this dataframe to an interactive table.\"\n",
              "            style=\"display:none;\">\n",
              "\n",
              "  <svg xmlns=\"http://www.w3.org/2000/svg\" height=\"24px\" viewBox=\"0 -960 960 960\">\n",
              "    <path d=\"M120-120v-720h720v720H120Zm60-500h600v-160H180v160Zm220 220h160v-160H400v160Zm0 220h160v-160H400v160ZM180-400h160v-160H180v160Zm440 0h160v-160H620v160ZM180-180h160v-160H180v160Zm440 0h160v-160H620v160Z\"/>\n",
              "  </svg>\n",
              "    </button>\n",
              "\n",
              "  <style>\n",
              "    .colab-df-container {\n",
              "      display:flex;\n",
              "      gap: 12px;\n",
              "    }\n",
              "\n",
              "    .colab-df-convert {\n",
              "      background-color: #E8F0FE;\n",
              "      border: none;\n",
              "      border-radius: 50%;\n",
              "      cursor: pointer;\n",
              "      display: none;\n",
              "      fill: #1967D2;\n",
              "      height: 32px;\n",
              "      padding: 0 0 0 0;\n",
              "      width: 32px;\n",
              "    }\n",
              "\n",
              "    .colab-df-convert:hover {\n",
              "      background-color: #E2EBFA;\n",
              "      box-shadow: 0px 1px 2px rgba(60, 64, 67, 0.3), 0px 1px 3px 1px rgba(60, 64, 67, 0.15);\n",
              "      fill: #174EA6;\n",
              "    }\n",
              "\n",
              "    .colab-df-buttons div {\n",
              "      margin-bottom: 4px;\n",
              "    }\n",
              "\n",
              "    [theme=dark] .colab-df-convert {\n",
              "      background-color: #3B4455;\n",
              "      fill: #D2E3FC;\n",
              "    }\n",
              "\n",
              "    [theme=dark] .colab-df-convert:hover {\n",
              "      background-color: #434B5C;\n",
              "      box-shadow: 0px 1px 3px 1px rgba(0, 0, 0, 0.15);\n",
              "      filter: drop-shadow(0px 1px 2px rgba(0, 0, 0, 0.3));\n",
              "      fill: #FFFFFF;\n",
              "    }\n",
              "  </style>\n",
              "\n",
              "    <script>\n",
              "      const buttonEl =\n",
              "        document.querySelector('#df-733fdc9f-35c4-4850-8587-5cd9cc74858a button.colab-df-convert');\n",
              "      buttonEl.style.display =\n",
              "        google.colab.kernel.accessAllowed ? 'block' : 'none';\n",
              "\n",
              "      async function convertToInteractive(key) {\n",
              "        const element = document.querySelector('#df-733fdc9f-35c4-4850-8587-5cd9cc74858a');\n",
              "        const dataTable =\n",
              "          await google.colab.kernel.invokeFunction('convertToInteractive',\n",
              "                                                    [key], {});\n",
              "        if (!dataTable) return;\n",
              "\n",
              "        const docLinkHtml = 'Like what you see? Visit the ' +\n",
              "          '<a target=\"_blank\" href=https://colab.research.google.com/notebooks/data_table.ipynb>data table notebook</a>'\n",
              "          + ' to learn more about interactive tables.';\n",
              "        element.innerHTML = '';\n",
              "        dataTable['output_type'] = 'display_data';\n",
              "        await google.colab.output.renderOutput(dataTable, element);\n",
              "        const docLink = document.createElement('div');\n",
              "        docLink.innerHTML = docLinkHtml;\n",
              "        element.appendChild(docLink);\n",
              "      }\n",
              "    </script>\n",
              "  </div>\n",
              "\n",
              "\n",
              "<div id=\"df-f854699c-5848-4592-8571-b7c0cd2dcc26\">\n",
              "  <button class=\"colab-df-quickchart\" onclick=\"quickchart('df-f854699c-5848-4592-8571-b7c0cd2dcc26')\"\n",
              "            title=\"Suggest charts\"\n",
              "            style=\"display:none;\">\n",
              "\n",
              "<svg xmlns=\"http://www.w3.org/2000/svg\" height=\"24px\"viewBox=\"0 0 24 24\"\n",
              "     width=\"24px\">\n",
              "    <g>\n",
              "        <path d=\"M19 3H5c-1.1 0-2 .9-2 2v14c0 1.1.9 2 2 2h14c1.1 0 2-.9 2-2V5c0-1.1-.9-2-2-2zM9 17H7v-7h2v7zm4 0h-2V7h2v10zm4 0h-2v-4h2v4z\"/>\n",
              "    </g>\n",
              "</svg>\n",
              "  </button>\n",
              "\n",
              "<style>\n",
              "  .colab-df-quickchart {\n",
              "      --bg-color: #E8F0FE;\n",
              "      --fill-color: #1967D2;\n",
              "      --hover-bg-color: #E2EBFA;\n",
              "      --hover-fill-color: #174EA6;\n",
              "      --disabled-fill-color: #AAA;\n",
              "      --disabled-bg-color: #DDD;\n",
              "  }\n",
              "\n",
              "  [theme=dark] .colab-df-quickchart {\n",
              "      --bg-color: #3B4455;\n",
              "      --fill-color: #D2E3FC;\n",
              "      --hover-bg-color: #434B5C;\n",
              "      --hover-fill-color: #FFFFFF;\n",
              "      --disabled-bg-color: #3B4455;\n",
              "      --disabled-fill-color: #666;\n",
              "  }\n",
              "\n",
              "  .colab-df-quickchart {\n",
              "    background-color: var(--bg-color);\n",
              "    border: none;\n",
              "    border-radius: 50%;\n",
              "    cursor: pointer;\n",
              "    display: none;\n",
              "    fill: var(--fill-color);\n",
              "    height: 32px;\n",
              "    padding: 0;\n",
              "    width: 32px;\n",
              "  }\n",
              "\n",
              "  .colab-df-quickchart:hover {\n",
              "    background-color: var(--hover-bg-color);\n",
              "    box-shadow: 0 1px 2px rgba(60, 64, 67, 0.3), 0 1px 3px 1px rgba(60, 64, 67, 0.15);\n",
              "    fill: var(--button-hover-fill-color);\n",
              "  }\n",
              "\n",
              "  .colab-df-quickchart-complete:disabled,\n",
              "  .colab-df-quickchart-complete:disabled:hover {\n",
              "    background-color: var(--disabled-bg-color);\n",
              "    fill: var(--disabled-fill-color);\n",
              "    box-shadow: none;\n",
              "  }\n",
              "\n",
              "  .colab-df-spinner {\n",
              "    border: 2px solid var(--fill-color);\n",
              "    border-color: transparent;\n",
              "    border-bottom-color: var(--fill-color);\n",
              "    animation:\n",
              "      spin 1s steps(1) infinite;\n",
              "  }\n",
              "\n",
              "  @keyframes spin {\n",
              "    0% {\n",
              "      border-color: transparent;\n",
              "      border-bottom-color: var(--fill-color);\n",
              "      border-left-color: var(--fill-color);\n",
              "    }\n",
              "    20% {\n",
              "      border-color: transparent;\n",
              "      border-left-color: var(--fill-color);\n",
              "      border-top-color: var(--fill-color);\n",
              "    }\n",
              "    30% {\n",
              "      border-color: transparent;\n",
              "      border-left-color: var(--fill-color);\n",
              "      border-top-color: var(--fill-color);\n",
              "      border-right-color: var(--fill-color);\n",
              "    }\n",
              "    40% {\n",
              "      border-color: transparent;\n",
              "      border-right-color: var(--fill-color);\n",
              "      border-top-color: var(--fill-color);\n",
              "    }\n",
              "    60% {\n",
              "      border-color: transparent;\n",
              "      border-right-color: var(--fill-color);\n",
              "    }\n",
              "    80% {\n",
              "      border-color: transparent;\n",
              "      border-right-color: var(--fill-color);\n",
              "      border-bottom-color: var(--fill-color);\n",
              "    }\n",
              "    90% {\n",
              "      border-color: transparent;\n",
              "      border-bottom-color: var(--fill-color);\n",
              "    }\n",
              "  }\n",
              "</style>\n",
              "\n",
              "  <script>\n",
              "    async function quickchart(key) {\n",
              "      const quickchartButtonEl =\n",
              "        document.querySelector('#' + key + ' button');\n",
              "      quickchartButtonEl.disabled = true;  // To prevent multiple clicks.\n",
              "      quickchartButtonEl.classList.add('colab-df-spinner');\n",
              "      try {\n",
              "        const charts = await google.colab.kernel.invokeFunction(\n",
              "            'suggestCharts', [key], {});\n",
              "      } catch (error) {\n",
              "        console.error('Error during call to suggestCharts:', error);\n",
              "      }\n",
              "      quickchartButtonEl.classList.remove('colab-df-spinner');\n",
              "      quickchartButtonEl.classList.add('colab-df-quickchart-complete');\n",
              "    }\n",
              "    (() => {\n",
              "      let quickchartButtonEl =\n",
              "        document.querySelector('#df-f854699c-5848-4592-8571-b7c0cd2dcc26 button');\n",
              "      quickchartButtonEl.style.display =\n",
              "        google.colab.kernel.accessAllowed ? 'block' : 'none';\n",
              "    })();\n",
              "  </script>\n",
              "</div>\n",
              "\n",
              "    </div>\n",
              "  </div>\n"
            ],
            "application/vnd.google.colaboratory.intrinsic+json": {
              "type": "dataframe",
              "variable_name": "y",
              "summary": "{\n  \"name\": \"y\",\n  \"rows\": 8124,\n  \"fields\": [\n    {\n      \"column\": \"poisonous\",\n      \"properties\": {\n        \"dtype\": \"category\",\n        \"num_unique_values\": 2,\n        \"samples\": [\n          \"e\",\n          \"p\"\n        ],\n        \"semantic_type\": \"\",\n        \"description\": \"\"\n      }\n    }\n  ]\n}"
            }
          },
          "metadata": {},
          "execution_count": 3
        }
      ]
    },
    {
      "cell_type": "code",
      "source": [
        "X.head()"
      ],
      "metadata": {
        "colab": {
          "base_uri": "https://localhost:8080/",
          "height": 288
        },
        "id": "z6iVnZRNKiev",
        "outputId": "43d736cb-de9c-4c4e-b843-4376ce175e20"
      },
      "execution_count": null,
      "outputs": [
        {
          "output_type": "execute_result",
          "data": {
            "text/plain": [
              "  cap-shape cap-surface cap-color bruises odor gill-attachment gill-spacing  \\\n",
              "0         x           s         n       t    p               f            c   \n",
              "1         x           s         y       t    a               f            c   \n",
              "2         b           s         w       t    l               f            c   \n",
              "3         x           y         w       t    p               f            c   \n",
              "4         x           s         g       f    n               f            w   \n",
              "\n",
              "  gill-size gill-color stalk-shape  ... stalk-surface-below-ring  \\\n",
              "0         n          k           e  ...                        s   \n",
              "1         b          k           e  ...                        s   \n",
              "2         b          n           e  ...                        s   \n",
              "3         n          n           e  ...                        s   \n",
              "4         b          k           t  ...                        s   \n",
              "\n",
              "  stalk-color-above-ring stalk-color-below-ring veil-type veil-color  \\\n",
              "0                      w                      w         p          w   \n",
              "1                      w                      w         p          w   \n",
              "2                      w                      w         p          w   \n",
              "3                      w                      w         p          w   \n",
              "4                      w                      w         p          w   \n",
              "\n",
              "  ring-number ring-type spore-print-color population habitat  \n",
              "0           o         p                 k          s       u  \n",
              "1           o         p                 n          n       g  \n",
              "2           o         p                 n          n       m  \n",
              "3           o         p                 k          s       u  \n",
              "4           o         e                 n          a       g  \n",
              "\n",
              "[5 rows x 22 columns]"
            ],
            "text/html": [
              "\n",
              "  <div id=\"df-d13cce47-5ae9-42e1-8c32-c1c73389ae6e\" class=\"colab-df-container\">\n",
              "    <div>\n",
              "<style scoped>\n",
              "    .dataframe tbody tr th:only-of-type {\n",
              "        vertical-align: middle;\n",
              "    }\n",
              "\n",
              "    .dataframe tbody tr th {\n",
              "        vertical-align: top;\n",
              "    }\n",
              "\n",
              "    .dataframe thead th {\n",
              "        text-align: right;\n",
              "    }\n",
              "</style>\n",
              "<table border=\"1\" class=\"dataframe\">\n",
              "  <thead>\n",
              "    <tr style=\"text-align: right;\">\n",
              "      <th></th>\n",
              "      <th>cap-shape</th>\n",
              "      <th>cap-surface</th>\n",
              "      <th>cap-color</th>\n",
              "      <th>bruises</th>\n",
              "      <th>odor</th>\n",
              "      <th>gill-attachment</th>\n",
              "      <th>gill-spacing</th>\n",
              "      <th>gill-size</th>\n",
              "      <th>gill-color</th>\n",
              "      <th>stalk-shape</th>\n",
              "      <th>...</th>\n",
              "      <th>stalk-surface-below-ring</th>\n",
              "      <th>stalk-color-above-ring</th>\n",
              "      <th>stalk-color-below-ring</th>\n",
              "      <th>veil-type</th>\n",
              "      <th>veil-color</th>\n",
              "      <th>ring-number</th>\n",
              "      <th>ring-type</th>\n",
              "      <th>spore-print-color</th>\n",
              "      <th>population</th>\n",
              "      <th>habitat</th>\n",
              "    </tr>\n",
              "  </thead>\n",
              "  <tbody>\n",
              "    <tr>\n",
              "      <th>0</th>\n",
              "      <td>x</td>\n",
              "      <td>s</td>\n",
              "      <td>n</td>\n",
              "      <td>t</td>\n",
              "      <td>p</td>\n",
              "      <td>f</td>\n",
              "      <td>c</td>\n",
              "      <td>n</td>\n",
              "      <td>k</td>\n",
              "      <td>e</td>\n",
              "      <td>...</td>\n",
              "      <td>s</td>\n",
              "      <td>w</td>\n",
              "      <td>w</td>\n",
              "      <td>p</td>\n",
              "      <td>w</td>\n",
              "      <td>o</td>\n",
              "      <td>p</td>\n",
              "      <td>k</td>\n",
              "      <td>s</td>\n",
              "      <td>u</td>\n",
              "    </tr>\n",
              "    <tr>\n",
              "      <th>1</th>\n",
              "      <td>x</td>\n",
              "      <td>s</td>\n",
              "      <td>y</td>\n",
              "      <td>t</td>\n",
              "      <td>a</td>\n",
              "      <td>f</td>\n",
              "      <td>c</td>\n",
              "      <td>b</td>\n",
              "      <td>k</td>\n",
              "      <td>e</td>\n",
              "      <td>...</td>\n",
              "      <td>s</td>\n",
              "      <td>w</td>\n",
              "      <td>w</td>\n",
              "      <td>p</td>\n",
              "      <td>w</td>\n",
              "      <td>o</td>\n",
              "      <td>p</td>\n",
              "      <td>n</td>\n",
              "      <td>n</td>\n",
              "      <td>g</td>\n",
              "    </tr>\n",
              "    <tr>\n",
              "      <th>2</th>\n",
              "      <td>b</td>\n",
              "      <td>s</td>\n",
              "      <td>w</td>\n",
              "      <td>t</td>\n",
              "      <td>l</td>\n",
              "      <td>f</td>\n",
              "      <td>c</td>\n",
              "      <td>b</td>\n",
              "      <td>n</td>\n",
              "      <td>e</td>\n",
              "      <td>...</td>\n",
              "      <td>s</td>\n",
              "      <td>w</td>\n",
              "      <td>w</td>\n",
              "      <td>p</td>\n",
              "      <td>w</td>\n",
              "      <td>o</td>\n",
              "      <td>p</td>\n",
              "      <td>n</td>\n",
              "      <td>n</td>\n",
              "      <td>m</td>\n",
              "    </tr>\n",
              "    <tr>\n",
              "      <th>3</th>\n",
              "      <td>x</td>\n",
              "      <td>y</td>\n",
              "      <td>w</td>\n",
              "      <td>t</td>\n",
              "      <td>p</td>\n",
              "      <td>f</td>\n",
              "      <td>c</td>\n",
              "      <td>n</td>\n",
              "      <td>n</td>\n",
              "      <td>e</td>\n",
              "      <td>...</td>\n",
              "      <td>s</td>\n",
              "      <td>w</td>\n",
              "      <td>w</td>\n",
              "      <td>p</td>\n",
              "      <td>w</td>\n",
              "      <td>o</td>\n",
              "      <td>p</td>\n",
              "      <td>k</td>\n",
              "      <td>s</td>\n",
              "      <td>u</td>\n",
              "    </tr>\n",
              "    <tr>\n",
              "      <th>4</th>\n",
              "      <td>x</td>\n",
              "      <td>s</td>\n",
              "      <td>g</td>\n",
              "      <td>f</td>\n",
              "      <td>n</td>\n",
              "      <td>f</td>\n",
              "      <td>w</td>\n",
              "      <td>b</td>\n",
              "      <td>k</td>\n",
              "      <td>t</td>\n",
              "      <td>...</td>\n",
              "      <td>s</td>\n",
              "      <td>w</td>\n",
              "      <td>w</td>\n",
              "      <td>p</td>\n",
              "      <td>w</td>\n",
              "      <td>o</td>\n",
              "      <td>e</td>\n",
              "      <td>n</td>\n",
              "      <td>a</td>\n",
              "      <td>g</td>\n",
              "    </tr>\n",
              "  </tbody>\n",
              "</table>\n",
              "<p>5 rows × 22 columns</p>\n",
              "</div>\n",
              "    <div class=\"colab-df-buttons\">\n",
              "\n",
              "  <div class=\"colab-df-container\">\n",
              "    <button class=\"colab-df-convert\" onclick=\"convertToInteractive('df-d13cce47-5ae9-42e1-8c32-c1c73389ae6e')\"\n",
              "            title=\"Convert this dataframe to an interactive table.\"\n",
              "            style=\"display:none;\">\n",
              "\n",
              "  <svg xmlns=\"http://www.w3.org/2000/svg\" height=\"24px\" viewBox=\"0 -960 960 960\">\n",
              "    <path d=\"M120-120v-720h720v720H120Zm60-500h600v-160H180v160Zm220 220h160v-160H400v160Zm0 220h160v-160H400v160ZM180-400h160v-160H180v160Zm440 0h160v-160H620v160ZM180-180h160v-160H180v160Zm440 0h160v-160H620v160Z\"/>\n",
              "  </svg>\n",
              "    </button>\n",
              "\n",
              "  <style>\n",
              "    .colab-df-container {\n",
              "      display:flex;\n",
              "      gap: 12px;\n",
              "    }\n",
              "\n",
              "    .colab-df-convert {\n",
              "      background-color: #E8F0FE;\n",
              "      border: none;\n",
              "      border-radius: 50%;\n",
              "      cursor: pointer;\n",
              "      display: none;\n",
              "      fill: #1967D2;\n",
              "      height: 32px;\n",
              "      padding: 0 0 0 0;\n",
              "      width: 32px;\n",
              "    }\n",
              "\n",
              "    .colab-df-convert:hover {\n",
              "      background-color: #E2EBFA;\n",
              "      box-shadow: 0px 1px 2px rgba(60, 64, 67, 0.3), 0px 1px 3px 1px rgba(60, 64, 67, 0.15);\n",
              "      fill: #174EA6;\n",
              "    }\n",
              "\n",
              "    .colab-df-buttons div {\n",
              "      margin-bottom: 4px;\n",
              "    }\n",
              "\n",
              "    [theme=dark] .colab-df-convert {\n",
              "      background-color: #3B4455;\n",
              "      fill: #D2E3FC;\n",
              "    }\n",
              "\n",
              "    [theme=dark] .colab-df-convert:hover {\n",
              "      background-color: #434B5C;\n",
              "      box-shadow: 0px 1px 3px 1px rgba(0, 0, 0, 0.15);\n",
              "      filter: drop-shadow(0px 1px 2px rgba(0, 0, 0, 0.3));\n",
              "      fill: #FFFFFF;\n",
              "    }\n",
              "  </style>\n",
              "\n",
              "    <script>\n",
              "      const buttonEl =\n",
              "        document.querySelector('#df-d13cce47-5ae9-42e1-8c32-c1c73389ae6e button.colab-df-convert');\n",
              "      buttonEl.style.display =\n",
              "        google.colab.kernel.accessAllowed ? 'block' : 'none';\n",
              "\n",
              "      async function convertToInteractive(key) {\n",
              "        const element = document.querySelector('#df-d13cce47-5ae9-42e1-8c32-c1c73389ae6e');\n",
              "        const dataTable =\n",
              "          await google.colab.kernel.invokeFunction('convertToInteractive',\n",
              "                                                    [key], {});\n",
              "        if (!dataTable) return;\n",
              "\n",
              "        const docLinkHtml = 'Like what you see? Visit the ' +\n",
              "          '<a target=\"_blank\" href=https://colab.research.google.com/notebooks/data_table.ipynb>data table notebook</a>'\n",
              "          + ' to learn more about interactive tables.';\n",
              "        element.innerHTML = '';\n",
              "        dataTable['output_type'] = 'display_data';\n",
              "        await google.colab.output.renderOutput(dataTable, element);\n",
              "        const docLink = document.createElement('div');\n",
              "        docLink.innerHTML = docLinkHtml;\n",
              "        element.appendChild(docLink);\n",
              "      }\n",
              "    </script>\n",
              "  </div>\n",
              "\n",
              "\n",
              "<div id=\"df-0fd51ccb-a0a2-4890-ad31-fadd61e7dfbc\">\n",
              "  <button class=\"colab-df-quickchart\" onclick=\"quickchart('df-0fd51ccb-a0a2-4890-ad31-fadd61e7dfbc')\"\n",
              "            title=\"Suggest charts\"\n",
              "            style=\"display:none;\">\n",
              "\n",
              "<svg xmlns=\"http://www.w3.org/2000/svg\" height=\"24px\"viewBox=\"0 0 24 24\"\n",
              "     width=\"24px\">\n",
              "    <g>\n",
              "        <path d=\"M19 3H5c-1.1 0-2 .9-2 2v14c0 1.1.9 2 2 2h14c1.1 0 2-.9 2-2V5c0-1.1-.9-2-2-2zM9 17H7v-7h2v7zm4 0h-2V7h2v10zm4 0h-2v-4h2v4z\"/>\n",
              "    </g>\n",
              "</svg>\n",
              "  </button>\n",
              "\n",
              "<style>\n",
              "  .colab-df-quickchart {\n",
              "      --bg-color: #E8F0FE;\n",
              "      --fill-color: #1967D2;\n",
              "      --hover-bg-color: #E2EBFA;\n",
              "      --hover-fill-color: #174EA6;\n",
              "      --disabled-fill-color: #AAA;\n",
              "      --disabled-bg-color: #DDD;\n",
              "  }\n",
              "\n",
              "  [theme=dark] .colab-df-quickchart {\n",
              "      --bg-color: #3B4455;\n",
              "      --fill-color: #D2E3FC;\n",
              "      --hover-bg-color: #434B5C;\n",
              "      --hover-fill-color: #FFFFFF;\n",
              "      --disabled-bg-color: #3B4455;\n",
              "      --disabled-fill-color: #666;\n",
              "  }\n",
              "\n",
              "  .colab-df-quickchart {\n",
              "    background-color: var(--bg-color);\n",
              "    border: none;\n",
              "    border-radius: 50%;\n",
              "    cursor: pointer;\n",
              "    display: none;\n",
              "    fill: var(--fill-color);\n",
              "    height: 32px;\n",
              "    padding: 0;\n",
              "    width: 32px;\n",
              "  }\n",
              "\n",
              "  .colab-df-quickchart:hover {\n",
              "    background-color: var(--hover-bg-color);\n",
              "    box-shadow: 0 1px 2px rgba(60, 64, 67, 0.3), 0 1px 3px 1px rgba(60, 64, 67, 0.15);\n",
              "    fill: var(--button-hover-fill-color);\n",
              "  }\n",
              "\n",
              "  .colab-df-quickchart-complete:disabled,\n",
              "  .colab-df-quickchart-complete:disabled:hover {\n",
              "    background-color: var(--disabled-bg-color);\n",
              "    fill: var(--disabled-fill-color);\n",
              "    box-shadow: none;\n",
              "  }\n",
              "\n",
              "  .colab-df-spinner {\n",
              "    border: 2px solid var(--fill-color);\n",
              "    border-color: transparent;\n",
              "    border-bottom-color: var(--fill-color);\n",
              "    animation:\n",
              "      spin 1s steps(1) infinite;\n",
              "  }\n",
              "\n",
              "  @keyframes spin {\n",
              "    0% {\n",
              "      border-color: transparent;\n",
              "      border-bottom-color: var(--fill-color);\n",
              "      border-left-color: var(--fill-color);\n",
              "    }\n",
              "    20% {\n",
              "      border-color: transparent;\n",
              "      border-left-color: var(--fill-color);\n",
              "      border-top-color: var(--fill-color);\n",
              "    }\n",
              "    30% {\n",
              "      border-color: transparent;\n",
              "      border-left-color: var(--fill-color);\n",
              "      border-top-color: var(--fill-color);\n",
              "      border-right-color: var(--fill-color);\n",
              "    }\n",
              "    40% {\n",
              "      border-color: transparent;\n",
              "      border-right-color: var(--fill-color);\n",
              "      border-top-color: var(--fill-color);\n",
              "    }\n",
              "    60% {\n",
              "      border-color: transparent;\n",
              "      border-right-color: var(--fill-color);\n",
              "    }\n",
              "    80% {\n",
              "      border-color: transparent;\n",
              "      border-right-color: var(--fill-color);\n",
              "      border-bottom-color: var(--fill-color);\n",
              "    }\n",
              "    90% {\n",
              "      border-color: transparent;\n",
              "      border-bottom-color: var(--fill-color);\n",
              "    }\n",
              "  }\n",
              "</style>\n",
              "\n",
              "  <script>\n",
              "    async function quickchart(key) {\n",
              "      const quickchartButtonEl =\n",
              "        document.querySelector('#' + key + ' button');\n",
              "      quickchartButtonEl.disabled = true;  // To prevent multiple clicks.\n",
              "      quickchartButtonEl.classList.add('colab-df-spinner');\n",
              "      try {\n",
              "        const charts = await google.colab.kernel.invokeFunction(\n",
              "            'suggestCharts', [key], {});\n",
              "      } catch (error) {\n",
              "        console.error('Error during call to suggestCharts:', error);\n",
              "      }\n",
              "      quickchartButtonEl.classList.remove('colab-df-spinner');\n",
              "      quickchartButtonEl.classList.add('colab-df-quickchart-complete');\n",
              "    }\n",
              "    (() => {\n",
              "      let quickchartButtonEl =\n",
              "        document.querySelector('#df-0fd51ccb-a0a2-4890-ad31-fadd61e7dfbc button');\n",
              "      quickchartButtonEl.style.display =\n",
              "        google.colab.kernel.accessAllowed ? 'block' : 'none';\n",
              "    })();\n",
              "  </script>\n",
              "</div>\n",
              "\n",
              "    </div>\n",
              "  </div>\n"
            ],
            "application/vnd.google.colaboratory.intrinsic+json": {
              "type": "dataframe",
              "variable_name": "X"
            }
          },
          "metadata": {},
          "execution_count": 4
        }
      ]
    },
    {
      "cell_type": "code",
      "source": [
        "import pandas as pd"
      ],
      "metadata": {
        "id": "3wCq9RqpKyhg"
      },
      "execution_count": null,
      "outputs": []
    },
    {
      "cell_type": "code",
      "source": [
        "# combine X and Y for easier cleaning\n",
        "data = pd.concat([X,y], axis=1)\n",
        "data.info()"
      ],
      "metadata": {
        "id": "-OHg8WQlPtzJ",
        "colab": {
          "base_uri": "https://localhost:8080/"
        },
        "outputId": "8c2758e5-6ed2-4513-8ec5-b180f462195d"
      },
      "execution_count": null,
      "outputs": [
        {
          "output_type": "stream",
          "name": "stdout",
          "text": [
            "<class 'pandas.core.frame.DataFrame'>\n",
            "RangeIndex: 8124 entries, 0 to 8123\n",
            "Data columns (total 23 columns):\n",
            " #   Column                    Non-Null Count  Dtype \n",
            "---  ------                    --------------  ----- \n",
            " 0   cap-shape                 8124 non-null   object\n",
            " 1   cap-surface               8124 non-null   object\n",
            " 2   cap-color                 8124 non-null   object\n",
            " 3   bruises                   8124 non-null   object\n",
            " 4   odor                      8124 non-null   object\n",
            " 5   gill-attachment           8124 non-null   object\n",
            " 6   gill-spacing              8124 non-null   object\n",
            " 7   gill-size                 8124 non-null   object\n",
            " 8   gill-color                8124 non-null   object\n",
            " 9   stalk-shape               8124 non-null   object\n",
            " 10  stalk-root                5644 non-null   object\n",
            " 11  stalk-surface-above-ring  8124 non-null   object\n",
            " 12  stalk-surface-below-ring  8124 non-null   object\n",
            " 13  stalk-color-above-ring    8124 non-null   object\n",
            " 14  stalk-color-below-ring    8124 non-null   object\n",
            " 15  veil-type                 8124 non-null   object\n",
            " 16  veil-color                8124 non-null   object\n",
            " 17  ring-number               8124 non-null   object\n",
            " 18  ring-type                 8124 non-null   object\n",
            " 19  spore-print-color         8124 non-null   object\n",
            " 20  population                8124 non-null   object\n",
            " 21  habitat                   8124 non-null   object\n",
            " 22  poisonous                 8124 non-null   object\n",
            "dtypes: object(23)\n",
            "memory usage: 1.4+ MB\n"
          ]
        }
      ]
    },
    {
      "cell_type": "code",
      "source": [
        "tab = pd.crosstab(data['stalk-root'],data['poisonous'])\n",
        "print(tab)\n",
        "data['stalk-root'].unique()"
      ],
      "metadata": {
        "id": "J7NHqWpWJfMt",
        "colab": {
          "base_uri": "https://localhost:8080/"
        },
        "outputId": "b8cc88d3-99aa-49c6-f37e-aa53b97ddc27"
      },
      "execution_count": null,
      "outputs": [
        {
          "output_type": "stream",
          "name": "stdout",
          "text": [
            "poisonous      e     p\n",
            "stalk-root            \n",
            "b           1920  1856\n",
            "c            512    44\n",
            "e            864   256\n",
            "r            192     0\n"
          ]
        },
        {
          "output_type": "execute_result",
          "data": {
            "text/plain": [
              "array(['e', 'c', 'b', 'r', nan], dtype=object)"
            ]
          },
          "metadata": {},
          "execution_count": 7
        }
      ]
    },
    {
      "cell_type": "code",
      "source": [
        "data.fillna({'stalk-root':'b'},inplace=True)\n",
        "data.info()"
      ],
      "metadata": {
        "id": "capZ97yJQJYQ",
        "colab": {
          "base_uri": "https://localhost:8080/"
        },
        "outputId": "01c4e216-712d-4640-9ad5-4dd3fa630bb3"
      },
      "execution_count": null,
      "outputs": [
        {
          "output_type": "stream",
          "name": "stdout",
          "text": [
            "<class 'pandas.core.frame.DataFrame'>\n",
            "RangeIndex: 8124 entries, 0 to 8123\n",
            "Data columns (total 23 columns):\n",
            " #   Column                    Non-Null Count  Dtype \n",
            "---  ------                    --------------  ----- \n",
            " 0   cap-shape                 8124 non-null   object\n",
            " 1   cap-surface               8124 non-null   object\n",
            " 2   cap-color                 8124 non-null   object\n",
            " 3   bruises                   8124 non-null   object\n",
            " 4   odor                      8124 non-null   object\n",
            " 5   gill-attachment           8124 non-null   object\n",
            " 6   gill-spacing              8124 non-null   object\n",
            " 7   gill-size                 8124 non-null   object\n",
            " 8   gill-color                8124 non-null   object\n",
            " 9   stalk-shape               8124 non-null   object\n",
            " 10  stalk-root                8124 non-null   object\n",
            " 11  stalk-surface-above-ring  8124 non-null   object\n",
            " 12  stalk-surface-below-ring  8124 non-null   object\n",
            " 13  stalk-color-above-ring    8124 non-null   object\n",
            " 14  stalk-color-below-ring    8124 non-null   object\n",
            " 15  veil-type                 8124 non-null   object\n",
            " 16  veil-color                8124 non-null   object\n",
            " 17  ring-number               8124 non-null   object\n",
            " 18  ring-type                 8124 non-null   object\n",
            " 19  spore-print-color         8124 non-null   object\n",
            " 20  population                8124 non-null   object\n",
            " 21  habitat                   8124 non-null   object\n",
            " 22  poisonous                 8124 non-null   object\n",
            "dtypes: object(23)\n",
            "memory usage: 1.4+ MB\n"
          ]
        }
      ]
    },
    {
      "cell_type": "code",
      "source": [
        "tab = pd.crosstab(data['stalk-root'],data['poisonous'])\n",
        "print(tab)\n",
        "data['stalk-root'].unique()"
      ],
      "metadata": {
        "id": "u_byv_OHLIGe",
        "colab": {
          "base_uri": "https://localhost:8080/"
        },
        "outputId": "970ea19a-54af-40e7-d419-029700853518"
      },
      "execution_count": null,
      "outputs": [
        {
          "output_type": "stream",
          "name": "stdout",
          "text": [
            "poisonous      e     p\n",
            "stalk-root            \n",
            "b           2640  3616\n",
            "c            512    44\n",
            "e            864   256\n",
            "r            192     0\n"
          ]
        },
        {
          "output_type": "execute_result",
          "data": {
            "text/plain": [
              "array(['e', 'c', 'b', 'r'], dtype=object)"
            ]
          },
          "metadata": {},
          "execution_count": 9
        }
      ]
    },
    {
      "cell_type": "markdown",
      "source": [
        "Dropped N/A values from the dataframe.\n",
        "\n"
      ],
      "metadata": {
        "id": "YOu8yWIPSP2t"
      }
    },
    {
      "cell_type": "code",
      "source": [
        "data.drop_duplicates(inplace=True)\n",
        "data.info()"
      ],
      "metadata": {
        "id": "TFXvZz_4SA5I",
        "colab": {
          "base_uri": "https://localhost:8080/"
        },
        "outputId": "834ad4a0-54fc-4c40-995f-06560e5cf4a2"
      },
      "execution_count": null,
      "outputs": [
        {
          "output_type": "stream",
          "name": "stdout",
          "text": [
            "<class 'pandas.core.frame.DataFrame'>\n",
            "RangeIndex: 8124 entries, 0 to 8123\n",
            "Data columns (total 23 columns):\n",
            " #   Column                    Non-Null Count  Dtype \n",
            "---  ------                    --------------  ----- \n",
            " 0   cap-shape                 8124 non-null   object\n",
            " 1   cap-surface               8124 non-null   object\n",
            " 2   cap-color                 8124 non-null   object\n",
            " 3   bruises                   8124 non-null   object\n",
            " 4   odor                      8124 non-null   object\n",
            " 5   gill-attachment           8124 non-null   object\n",
            " 6   gill-spacing              8124 non-null   object\n",
            " 7   gill-size                 8124 non-null   object\n",
            " 8   gill-color                8124 non-null   object\n",
            " 9   stalk-shape               8124 non-null   object\n",
            " 10  stalk-root                8124 non-null   object\n",
            " 11  stalk-surface-above-ring  8124 non-null   object\n",
            " 12  stalk-surface-below-ring  8124 non-null   object\n",
            " 13  stalk-color-above-ring    8124 non-null   object\n",
            " 14  stalk-color-below-ring    8124 non-null   object\n",
            " 15  veil-type                 8124 non-null   object\n",
            " 16  veil-color                8124 non-null   object\n",
            " 17  ring-number               8124 non-null   object\n",
            " 18  ring-type                 8124 non-null   object\n",
            " 19  spore-print-color         8124 non-null   object\n",
            " 20  population                8124 non-null   object\n",
            " 21  habitat                   8124 non-null   object\n",
            " 22  poisonous                 8124 non-null   object\n",
            "dtypes: object(23)\n",
            "memory usage: 1.4+ MB\n"
          ]
        }
      ]
    },
    {
      "cell_type": "markdown",
      "source": [
        "There were no duplicate values in our dataset."
      ],
      "metadata": {
        "id": "uHkow7OkSNY6"
      }
    },
    {
      "cell_type": "markdown",
      "source": [
        "# Exploratory Data Analysis"
      ],
      "metadata": {
        "id": "RqPaio5YiBay"
      }
    },
    {
      "cell_type": "code",
      "source": [
        "import seaborn as sns\n",
        "import matplotlib.pyplot as plt"
      ],
      "metadata": {
        "id": "NFF-1ntch00q"
      },
      "execution_count": null,
      "outputs": []
    },
    {
      "cell_type": "code",
      "source": [
        "# create a count plot of poisonous or edible mushrooms\n",
        "target_labels = {'p':'Poisonous','e':'Edible'}\n",
        "data['poisonous'] = data['poisonous'].map(target_labels)\n",
        "print(data['poisonous'])\n",
        "\n",
        "\n"
      ],
      "metadata": {
        "id": "rHyXvGd8R05i",
        "colab": {
          "base_uri": "https://localhost:8080/"
        },
        "outputId": "a0dcd607-17ef-4f4b-e758-f88d12101628"
      },
      "execution_count": null,
      "outputs": [
        {
          "output_type": "stream",
          "name": "stdout",
          "text": [
            "0       Poisonous\n",
            "1          Edible\n",
            "2          Edible\n",
            "3       Poisonous\n",
            "4          Edible\n",
            "          ...    \n",
            "8119       Edible\n",
            "8120       Edible\n",
            "8121       Edible\n",
            "8122    Poisonous\n",
            "8123       Edible\n",
            "Name: poisonous, Length: 8124, dtype: object\n"
          ]
        }
      ]
    },
    {
      "cell_type": "code",
      "source": [
        "sns.countplot(data=data, x='poisonous',palette='colorblind')\n",
        "plt.title('Distribution of Poisonous vs. Edible Mushrooms')\n",
        "plt.xlabel('Edibility')\n",
        "plt.ylabel('Count')\n",
        "plt.show()"
      ],
      "metadata": {
        "colab": {
          "base_uri": "https://localhost:8080/",
          "height": 559
        },
        "id": "pYTbqhwrbZAP",
        "outputId": "7bbcf421-aab5-42a4-d956-d7b56c23ce43"
      },
      "execution_count": null,
      "outputs": [
        {
          "output_type": "stream",
          "name": "stderr",
          "text": [
            "<ipython-input-13-42c427c9fd52>:1: FutureWarning: \n",
            "\n",
            "Passing `palette` without assigning `hue` is deprecated and will be removed in v0.14.0. Assign the `x` variable to `hue` and set `legend=False` for the same effect.\n",
            "\n",
            "  sns.countplot(data=data, x='poisonous',palette='colorblind')\n"
          ]
        },
        {
          "output_type": "display_data",
          "data": {
            "text/plain": [
              "<Figure size 640x480 with 1 Axes>"
            ],
            "image/png": "[encoded data removed]"
          },
          "metadata": {}
        }
      ]
    },
    {
      "cell_type": "code",
      "source": [
        "#create a cross tabulation table of target variable vs. bruise presence\n",
        "cross_tab = pd.crosstab(data['bruises'],data['poisonous'])\n",
        "cross_tab.rename(index={'f':'No','t':'Yes'},inplace=True)\n",
        "print(cross_tab)"
      ],
      "metadata": {
        "id": "5KP1AT8UDCPQ",
        "colab": {
          "base_uri": "https://localhost:8080/"
        },
        "outputId": "6f2bd574-7264-4f01-d562-c5269f2b12f0"
      },
      "execution_count": null,
      "outputs": [
        {
          "output_type": "stream",
          "name": "stdout",
          "text": [
            "poisonous  Edible  Poisonous\n",
            "bruises                     \n",
            "No           1456       3292\n",
            "Yes          2752        624\n"
          ]
        }
      ]
    },
    {
      "cell_type": "code",
      "source": [
        "sns.heatmap(cross_tab,cmap=\"YlGnBu\", fmt='g',annot=True)\n",
        "plt.title('Distribution of Edibility vs. Bruise Presence')\n",
        "plt.xlabel('Edibility')\n",
        "plt.ylabel('Has Bruises?')"
      ],
      "metadata": {
        "id": "ryacy5fYEN0n",
        "colab": {
          "base_uri": "https://localhost:8080/",
          "height": 489
        },
        "outputId": "c760c40e-721c-4f89-a8f9-5b6bf606e01a"
      },
      "execution_count": null,
      "outputs": [
        {
          "output_type": "execute_result",
          "data": {
            "text/plain": [
              "Text(50.722222222222214, 0.5, 'Has Bruises?')"
            ]
          },
          "metadata": {},
          "execution_count": 15
        },
        {
          "output_type": "display_data",
          "data": {
            "text/plain": [
              "<Figure size 640x480 with 2 Axes>"
            ],
            "image/png": "[encoded data removed]"
          },
          "metadata": {}
        }
      ]
    },
    {
      "cell_type": "code",
      "source": [
        "#create a cross tabulation table of target variable vs. bruise presence\n",
        "cross_tab_shape = pd.crosstab(data['cap-shape'],data['poisonous'])\n",
        "#cross_tab_shape.index = cross_tab_shape.index.map({'b':'Bell','c':'Conical','x':'Convex','f':'Flat','k':'Knobbed','s':'Sunken'})\n",
        "cross_tab_shape.rename(index={'b':'Bell','c':'Conical','x':'Convex','f':'Flat','k':'Knobbed','s':'Sunken'}, columns={'0': 'edible','1':'poisonous'},inplace=True)\n",
        "print(cross_tab_shape)\n",
        "\n",
        "'''\n",
        "Encoded Value: 0 -> Label: bell\n",
        "Encoded Value: 1 -> Label: conical\n",
        "Encoded Value: 2 -> Label: convex\n",
        "Encoded Value: 3 -> Label: flat\n",
        "Encoded Value: 4 -> Label: knobbed\n",
        "Encoded Value: 5 -> Label: sunken\n",
        "'''"
      ],
      "metadata": {
        "colab": {
          "base_uri": "https://localhost:8080/",
          "height": 192
        },
        "id": "aNg6n5psOJiR",
        "outputId": "5946bdd0-35ab-4864-a3ff-9533563c281f"
      },
      "execution_count": null,
      "outputs": [
        {
          "output_type": "stream",
          "name": "stdout",
          "text": [
            "poisonous  Edible  Poisonous\n",
            "cap-shape                   \n",
            "Bell          404         48\n",
            "Conical         0          4\n",
            "Flat         1596       1556\n",
            "Knobbed       228        600\n",
            "Sunken         32          0\n",
            "Convex       1948       1708\n"
          ]
        },
        {
          "output_type": "execute_result",
          "data": {
            "text/plain": [
              "'\\nEncoded Value: 0 -> Label: bell\\nEncoded Value: 1 -> Label: conical\\nEncoded Value: 2 -> Label: convex\\nEncoded Value: 3 -> Label: flat\\nEncoded Value: 4 -> Label: knobbed\\nEncoded Value: 5 -> Label: sunken\\n'"
            ],
            "application/vnd.google.colaboratory.intrinsic+json": {
              "type": "string"
            }
          },
          "metadata": {},
          "execution_count": 16
        }
      ]
    },
    {
      "cell_type": "code",
      "source": [
        "# create a cross tab heatmap of target vs cap shape\n",
        "sns.heatmap(cross_tab_shape,cmap=\"YlGnBu\", fmt='g',annot=True)\n",
        "plt.title('Distribution of Edibility vs. Cap Shape')\n",
        "plt.xlabel('Edibility')\n",
        "plt.ylabel('Cap Shape')"
      ],
      "metadata": {
        "colab": {
          "base_uri": "https://localhost:8080/",
          "height": 489
        },
        "id": "UxTM-ezzYruL",
        "outputId": "c394713a-589a-4af6-e59d-3b906786e0dc"
      },
      "execution_count": null,
      "outputs": [
        {
          "output_type": "execute_result",
          "data": {
            "text/plain": [
              "Text(50.722222222222214, 0.5, 'Cap Shape')"
            ]
          },
          "metadata": {},
          "execution_count": 17
        },
        {
          "output_type": "display_data",
          "data": {
            "text/plain": [
              "<Figure size 640x480 with 2 Axes>"
            ],
            "image/png": "[encoded data removed]"
          },
          "metadata": {}
        }
      ]
    },
    {
      "cell_type": "code",
      "source": [
        "#create a cross tabulation table of target variable vs. bruise presence\n",
        "cross_tab = pd.crosstab(data['cap-surface'],data['poisonous'])\n",
        "cross_tab.rename(index={'f':'Fibrous','g':'Grooves','y':'Scaly','s':'Smooth'}, columns={'0': 'edible','1':'poisonous'},inplace=True)\n",
        "print(cross_tab)"
      ],
      "metadata": {
        "colab": {
          "base_uri": "https://localhost:8080/"
        },
        "id": "HUsCfqSiQBU8",
        "outputId": "1d8cd952-6a2a-4bf4-897d-6afcc4016451"
      },
      "execution_count": null,
      "outputs": [
        {
          "output_type": "stream",
          "name": "stdout",
          "text": [
            "poisonous    Edible  Poisonous\n",
            "cap-surface                   \n",
            "Fibrous        1560        760\n",
            "Grooves           0          4\n",
            "Smooth         1144       1412\n",
            "Scaly          1504       1740\n"
          ]
        }
      ]
    },
    {
      "cell_type": "code",
      "source": [
        "sns.heatmap(cross_tab,cmap=\"YlGnBu\", fmt='g',annot=True)\n",
        "plt.title('Distribution of Edibility vs. Cap Surface')\n",
        "plt.xlabel('Edibility')\n",
        "plt.ylabel('Cap Surface')"
      ],
      "metadata": {
        "colab": {
          "base_uri": "https://localhost:8080/",
          "height": 489
        },
        "id": "2FbpYUqrQHxU",
        "outputId": "66e4a22c-b570-4fad-9e27-c56dfca9256a"
      },
      "execution_count": null,
      "outputs": [
        {
          "output_type": "execute_result",
          "data": {
            "text/plain": [
              "Text(50.722222222222214, 0.5, 'Cap Surface')"
            ]
          },
          "metadata": {},
          "execution_count": 19
        },
        {
          "output_type": "display_data",
          "data": {
            "text/plain": [
              "<Figure size 640x480 with 2 Axes>"
            ],
            "image/png": "[encoded data removed]"
          },
          "metadata": {}
        }
      ]
    },
    {
      "cell_type": "code",
      "source": [
        "#create a cross tabulation table of ring type vs. edibility\n",
        "cross_tab = pd.crosstab(data['ring-type'],data['poisonous'])\n",
        "cross_tab.rename(index={'c':'Cobwebby','e':'Evanescent','f':'Flaring','l':'Large','n':'None','p':'Pendant','s':'Sheathing','z':'Zone'}, columns={'0': 'edible','1':'poisonous'},inplace=True)\n",
        "print(cross_tab)\n",
        "\n",
        "# cobwebby=c,evanescent=e,flaring=f,large=l, none=n,pendant=p,sheathing=s,zone=z"
      ],
      "metadata": {
        "id": "Rsd09CV9aJ44",
        "colab": {
          "base_uri": "https://localhost:8080/"
        },
        "outputId": "e7ad5a64-e89c-4b91-b176-3740e10559fe"
      },
      "execution_count": null,
      "outputs": [
        {
          "output_type": "stream",
          "name": "stdout",
          "text": [
            "poisonous   Edible  Poisonous\n",
            "ring-type                    \n",
            "Evanescent    1008       1768\n",
            "Flaring         48          0\n",
            "Large            0       1296\n",
            "None             0         36\n",
            "Pendant       3152        816\n"
          ]
        }
      ]
    },
    {
      "cell_type": "code",
      "source": [
        "sns.heatmap(cross_tab,cmap=\"YlGnBu\", fmt='g',annot=True)\n",
        "plt.title('Distribution of Edibility vs. Ring Type')\n",
        "plt.xlabel('Edibility')\n",
        "plt.ylabel('Ring Type')"
      ],
      "metadata": {
        "colab": {
          "base_uri": "https://localhost:8080/",
          "height": 489
        },
        "id": "Nu6iwlGpRhi8",
        "outputId": "2090e4c8-70aa-49bd-fa97-6848c7c75bed"
      },
      "execution_count": null,
      "outputs": [
        {
          "output_type": "execute_result",
          "data": {
            "text/plain": [
              "Text(50.72222222222221, 0.5, 'Ring Type')"
            ]
          },
          "metadata": {},
          "execution_count": 21
        },
        {
          "output_type": "display_data",
          "data": {
            "text/plain": [
              "<Figure size 640x480 with 2 Axes>"
            ],
            "image/png": "[encoded data removed]"
          },
          "metadata": {}
        }
      ]
    },
    {
      "cell_type": "markdown",
      "source": [
        "# Machine Learning Models"
      ],
      "metadata": {
        "id": "LKumuTr3O4Wg"
      }
    },
    {
      "cell_type": "code",
      "source": [
        "import matplotlib.pyplot as plt\n",
        "import numpy as np"
      ],
      "metadata": {
        "id": "0i4CnJU17HTG"
      },
      "execution_count": null,
      "outputs": []
    },
    {
      "cell_type": "code",
      "source": [
        "# encode categorical values to numerical\n",
        "from sklearn.preprocessing import LabelEncoder\n",
        "\n",
        "encoded_labels = {}\n",
        "\n",
        "for column in data.columns:\n",
        "  le = LabelEncoder()\n",
        "  data[column] = le.fit_transform(data[column])\n",
        "  encoded_labels[column] = le"
      ],
      "metadata": {
        "id": "-9u7gwnwSJjl"
      },
      "execution_count": null,
      "outputs": []
    },
    {
      "cell_type": "code",
      "source": [
        "#gives us a key so we know what number each label is encoded to\n",
        "for column, le in encoded_labels.items():\n",
        "    print(f\"Feature Name: {column}\")\n",
        "    for encoded_value, label in enumerate(le.classes_):\n",
        "      print(f\"Encoded Value: {encoded_value} -> Label: {label}\")\n",
        "    print()"
      ],
      "metadata": {
        "id": "3Y0_zGTDgbIs",
        "colab": {
          "base_uri": "https://localhost:8080/"
        },
        "outputId": "3a91d893-0651-4635-f2e2-bb533ec4fe80"
      },
      "execution_count": null,
      "outputs": [
        {
          "output_type": "stream",
          "name": "stdout",
          "text": [
            "Feature Name: cap-shape\n",
            "Encoded Value: 0 -> Label: b\n",
            "Encoded Value: 1 -> Label: c\n",
            "Encoded Value: 2 -> Label: f\n",
            "Encoded Value: 3 -> Label: k\n",
            "Encoded Value: 4 -> Label: s\n",
            "Encoded Value: 5 -> Label: x\n",
            "\n",
            "Feature Name: cap-surface\n",
            "Encoded Value: 0 -> Label: f\n",
            "Encoded Value: 1 -> Label: g\n",
            "Encoded Value: 2 -> Label: s\n",
            "Encoded Value: 3 -> Label: y\n",
            "\n",
            "Feature Name: cap-color\n",
            "Encoded Value: 0 -> Label: b\n",
            "Encoded Value: 1 -> Label: c\n",
            "Encoded Value: 2 -> Label: e\n",
            "Encoded Value: 3 -> Label: g\n",
            "Encoded Value: 4 -> Label: n\n",
            "Encoded Value: 5 -> Label: p\n",
            "Encoded Value: 6 -> Label: r\n",
            "Encoded Value: 7 -> Label: u\n",
            "Encoded Value: 8 -> Label: w\n",
            "Encoded Value: 9 -> Label: y\n",
            "\n",
            "Feature Name: bruises\n",
            "Encoded Value: 0 -> Label: f\n",
            "Encoded Value: 1 -> Label: t\n",
            "\n",
            "Feature Name: odor\n",
            "Encoded Value: 0 -> Label: a\n",
            "Encoded Value: 1 -> Label: c\n",
            "Encoded Value: 2 -> Label: f\n",
            "Encoded Value: 3 -> Label: l\n",
            "Encoded Value: 4 -> Label: m\n",
            "Encoded Value: 5 -> Label: n\n",
            "Encoded Value: 6 -> Label: p\n",
            "Encoded Value: 7 -> Label: s\n",
            "Encoded Value: 8 -> Label: y\n",
            "\n",
            "Feature Name: gill-attachment\n",
            "Encoded Value: 0 -> Label: a\n",
            "Encoded Value: 1 -> Label: f\n",
            "\n",
            "Feature Name: gill-spacing\n",
            "Encoded Value: 0 -> Label: c\n",
            "Encoded Value: 1 -> Label: w\n",
            "\n",
            "Feature Name: gill-size\n",
            "Encoded Value: 0 -> Label: b\n",
            "Encoded Value: 1 -> Label: n\n",
            "\n",
            "Feature Name: gill-color\n",
            "Encoded Value: 0 -> Label: b\n",
            "Encoded Value: 1 -> Label: e\n",
            "Encoded Value: 2 -> Label: g\n",
            "Encoded Value: 3 -> Label: h\n",
            "Encoded Value: 4 -> Label: k\n",
            "Encoded Value: 5 -> Label: n\n",
            "Encoded Value: 6 -> Label: o\n",
            "Encoded Value: 7 -> Label: p\n",
            "Encoded Value: 8 -> Label: r\n",
            "Encoded Value: 9 -> Label: u\n",
            "Encoded Value: 10 -> Label: w\n",
            "Encoded Value: 11 -> Label: y\n",
            "\n",
            "Feature Name: stalk-shape\n",
            "Encoded Value: 0 -> Label: e\n",
            "Encoded Value: 1 -> Label: t\n",
            "\n",
            "Feature Name: stalk-root\n",
            "Encoded Value: 0 -> Label: b\n",
            "Encoded Value: 1 -> Label: c\n",
            "Encoded Value: 2 -> Label: e\n",
            "Encoded Value: 3 -> Label: r\n",
            "\n",
            "Feature Name: stalk-surface-above-ring\n",
            "Encoded Value: 0 -> Label: f\n",
            "Encoded Value: 1 -> Label: k\n",
            "Encoded Value: 2 -> Label: s\n",
            "Encoded Value: 3 -> Label: y\n",
            "\n",
            "Feature Name: stalk-surface-below-ring\n",
            "Encoded Value: 0 -> Label: f\n",
            "Encoded Value: 1 -> Label: k\n",
            "Encoded Value: 2 -> Label: s\n",
            "Encoded Value: 3 -> Label: y\n",
            "\n",
            "Feature Name: stalk-color-above-ring\n",
            "Encoded Value: 0 -> Label: b\n",
            "Encoded Value: 1 -> Label: c\n",
            "Encoded Value: 2 -> Label: e\n",
            "Encoded Value: 3 -> Label: g\n",
            "Encoded Value: 4 -> Label: n\n",
            "Encoded Value: 5 -> Label: o\n",
            "Encoded Value: 6 -> Label: p\n",
            "Encoded Value: 7 -> Label: w\n",
            "Encoded Value: 8 -> Label: y\n",
            "\n",
            "Feature Name: stalk-color-below-ring\n",
            "Encoded Value: 0 -> Label: b\n",
            "Encoded Value: 1 -> Label: c\n",
            "Encoded Value: 2 -> Label: e\n",
            "Encoded Value: 3 -> Label: g\n",
            "Encoded Value: 4 -> Label: n\n",
            "Encoded Value: 5 -> Label: o\n",
            "Encoded Value: 6 -> Label: p\n",
            "Encoded Value: 7 -> Label: w\n",
            "Encoded Value: 8 -> Label: y\n",
            "\n",
            "Feature Name: veil-type\n",
            "Encoded Value: 0 -> Label: p\n",
            "\n",
            "Feature Name: veil-color\n",
            "Encoded Value: 0 -> Label: n\n",
            "Encoded Value: 1 -> Label: o\n",
            "Encoded Value: 2 -> Label: w\n",
            "Encoded Value: 3 -> Label: y\n",
            "\n",
            "Feature Name: ring-number\n",
            "Encoded Value: 0 -> Label: n\n",
            "Encoded Value: 1 -> Label: o\n",
            "Encoded Value: 2 -> Label: t\n",
            "\n",
            "Feature Name: ring-type\n",
            "Encoded Value: 0 -> Label: e\n",
            "Encoded Value: 1 -> Label: f\n",
            "Encoded Value: 2 -> Label: l\n",
            "Encoded Value: 3 -> Label: n\n",
            "Encoded Value: 4 -> Label: p\n",
            "\n",
            "Feature Name: spore-print-color\n",
            "Encoded Value: 0 -> Label: b\n",
            "Encoded Value: 1 -> Label: h\n",
            "Encoded Value: 2 -> Label: k\n",
            "Encoded Value: 3 -> Label: n\n",
            "Encoded Value: 4 -> Label: o\n",
            "Encoded Value: 5 -> Label: r\n",
            "Encoded Value: 6 -> Label: u\n",
            "Encoded Value: 7 -> Label: w\n",
            "Encoded Value: 8 -> Label: y\n",
            "\n",
            "Feature Name: population\n",
            "Encoded Value: 0 -> Label: a\n",
            "Encoded Value: 1 -> Label: c\n",
            "Encoded Value: 2 -> Label: n\n",
            "Encoded Value: 3 -> Label: s\n",
            "Encoded Value: 4 -> Label: v\n",
            "Encoded Value: 5 -> Label: y\n",
            "\n",
            "Feature Name: habitat\n",
            "Encoded Value: 0 -> Label: d\n",
            "Encoded Value: 1 -> Label: g\n",
            "Encoded Value: 2 -> Label: l\n",
            "Encoded Value: 3 -> Label: m\n",
            "Encoded Value: 4 -> Label: p\n",
            "Encoded Value: 5 -> Label: u\n",
            "Encoded Value: 6 -> Label: w\n",
            "\n",
            "Feature Name: poisonous\n",
            "Encoded Value: 0 -> Label: Edible\n",
            "Encoded Value: 1 -> Label: Poisonous\n",
            "\n"
          ]
        }
      ]
    },
    {
      "cell_type": "code",
      "source": [
        "# separate into target and features for model\n",
        "X = data.drop(columns='poisonous')\n",
        "y = data['poisonous']"
      ],
      "metadata": {
        "id": "aHiS1CxthL4_"
      },
      "execution_count": null,
      "outputs": []
    },
    {
      "cell_type": "code",
      "source": [
        "# perform feature selection\n",
        "from sklearn.feature_selection import SelectKBest, chi2\n",
        "from sklearn.model_selection import train_test_split\n"
      ],
      "metadata": {
        "id": "fajI7Ew3UXhf"
      },
      "execution_count": null,
      "outputs": []
    },
    {
      "cell_type": "code",
      "source": [
        "#select 10 of the most important features\n",
        "select_features = SelectKBest(chi2, k=10)\n",
        "selected = select_features.fit_transform(X,y)"
      ],
      "metadata": {
        "id": "LZ3i1Tj_UHmD"
      },
      "execution_count": null,
      "outputs": []
    },
    {
      "cell_type": "code",
      "source": [
        "feature_scores = select_features.scores_\n",
        "feature_pvalues = select_features.pvalues_"
      ],
      "metadata": {
        "id": "PZeQKQ9vUtrF"
      },
      "execution_count": null,
      "outputs": []
    },
    {
      "cell_type": "code",
      "source": [
        "feature_names = X.columns # get the chi2 and p values of all of the features\n",
        "\n",
        "for name, score, pvalue in zip(feature_names,feature_scores,feature_pvalues):\n",
        "  print(f\"Feature Name: {name}, Chi2 Score: {score:.4f}, p-value: {pvalue:.4f}\\n\")"
      ],
      "metadata": {
        "id": "oqPN19s8U27w",
        "colab": {
          "base_uri": "https://localhost:8080/"
        },
        "outputId": "12ccb8f0-5196-428f-a97a-834e56b978ba"
      },
      "execution_count": null,
      "outputs": [
        {
          "output_type": "stream",
          "name": "stdout",
          "text": [
            "Feature Name: cap-shape, Chi2 Score: 17.5084, p-value: 0.0000\n",
            "\n",
            "Feature Name: cap-surface, Chi2 Score: 214.0685, p-value: 0.0000\n",
            "\n",
            "Feature Name: cap-color, Chi2 Score: 11.5114, p-value: 0.0007\n",
            "\n",
            "Feature Name: bruises, Chi2 Score: 1194.2774, p-value: 0.0000\n",
            "\n",
            "Feature Name: odor, Chi2 Score: 75.9102, p-value: 0.0000\n",
            "\n",
            "Feature Name: gill-attachment, Chi2 Score: 3.5054, p-value: 0.0612\n",
            "\n",
            "Feature Name: gill-spacing, Chi2 Score: 826.7953, p-value: 0.0000\n",
            "\n",
            "Feature Name: gill-size, Chi2 Score: 1636.6068, p-value: 0.0000\n",
            "\n",
            "Feature Name: gill-color, Chi2 Score: 5957.7645, p-value: 0.0000\n",
            "\n",
            "Feature Name: stalk-shape, Chi2 Score: 36.5941, p-value: 0.0000\n",
            "\n",
            "Feature Name: stalk-root, Chi2 Score: 1358.3586, p-value: 0.0000\n",
            "\n",
            "Feature Name: stalk-surface-above-ring, Chi2 Score: 222.9824, p-value: 0.0000\n",
            "\n",
            "Feature Name: stalk-surface-below-ring, Chi2 Score: 206.6482, p-value: 0.0000\n",
            "\n",
            "Feature Name: stalk-color-above-ring, Chi2 Score: 119.7922, p-value: 0.0000\n",
            "\n",
            "Feature Name: stalk-color-below-ring, Chi2 Score: 109.7894, p-value: 0.0000\n",
            "\n",
            "Feature Name: veil-type, Chi2 Score: nan, p-value: nan\n",
            "\n",
            "Feature Name: veil-color, Chi2 Score: 5.1268, p-value: 0.0236\n",
            "\n",
            "Feature Name: ring-number, Chi2 Score: 25.6463, p-value: 0.0000\n",
            "\n",
            "Feature Name: ring-type, Chi2 Score: 1950.6101, p-value: 0.0000\n",
            "\n",
            "Feature Name: spore-print-color, Chi2 Score: 379.1327, p-value: 0.0000\n",
            "\n",
            "Feature Name: population, Chi2 Score: 311.7667, p-value: 0.0000\n",
            "\n",
            "Feature Name: habitat, Chi2 Score: 751.3095, p-value: 0.0000\n",
            "\n"
          ]
        }
      ]
    },
    {
      "cell_type": "code",
      "source": [
        "mask = select_features.get_support()\n",
        "selected_features = X.columns[mask]\n",
        "print(f'Based on the Chi 2 test, these show to be the most important features: {selected_features}')"
      ],
      "metadata": {
        "id": "ghjFDBGNWmGM",
        "colab": {
          "base_uri": "https://localhost:8080/"
        },
        "outputId": "3d77b04e-0d62-4360-b8c8-81d361b3741c"
      },
      "execution_count": null,
      "outputs": [
        {
          "output_type": "stream",
          "name": "stdout",
          "text": [
            "Based on the Chi 2 test, these show to be the most important features: Index(['bruises', 'gill-spacing', 'gill-size', 'gill-color', 'stalk-root',\n",
            "       'stalk-surface-above-ring', 'ring-type', 'spore-print-color',\n",
            "       'population', 'habitat'],\n",
            "      dtype='object')\n"
          ]
        }
      ]
    },
    {
      "cell_type": "code",
      "source": [
        "# splits the data in to\n",
        "X_train, X_temp, y_train, y_temp = train_test_split(selected,y,test_size=.2,random_state=42)\n",
        "X_val,X_test,y_val,y_test = train_test_split(X_temp,y_temp,test_size=.5,random_state=42)"
      ],
      "metadata": {
        "id": "mx1uUkNLWqMp"
      },
      "execution_count": null,
      "outputs": []
    },
    {
      "cell_type": "markdown",
      "source": [
        "# Decision Tree Classifier"
      ],
      "metadata": {
        "id": "iy0Zit6YYVE1"
      }
    },
    {
      "cell_type": "code",
      "source": [
        "# import necessary modules\n",
        "from sklearn.metrics import confusion_matrix, accuracy_score, classification_report\n",
        "from sklearn.tree import DecisionTreeClassifier"
      ],
      "metadata": {
        "id": "Ti7aZNP-fMxg"
      },
      "execution_count": null,
      "outputs": []
    },
    {
      "cell_type": "code",
      "source": [
        "# instantiate dt classifier\n",
        "dt = DecisionTreeClassifier(max_depth=4,class_weight='balanced',random_state=42)"
      ],
      "metadata": {
        "id": "BecicMPCfSBN"
      },
      "execution_count": null,
      "outputs": []
    },
    {
      "cell_type": "markdown",
      "source": [
        "Without the use of the max_depth hyperparameter, the model overfits, with perfect accuracy. However, after tuning this hyperparameter, we see a model that generalizes and performs well overall."
      ],
      "metadata": {
        "id": "DxqZeFrP3rtR"
      }
    },
    {
      "cell_type": "code",
      "source": [
        "# fit the model on the training data, which will be validated\n",
        "dt.fit(X_train,y_train)"
      ],
      "metadata": {
        "id": "IbevOzU5fgHi",
        "colab": {
          "base_uri": "https://localhost:8080/",
          "height": 80
        },
        "outputId": "ad38e02e-dcc0-4b03-a44d-f8af0bfb2f4b"
      },
      "execution_count": null,
      "outputs": [
        {
          "output_type": "execute_result",
          "data": {
            "text/plain": [
              "DecisionTreeClassifier(class_weight='balanced', max_depth=4, random_state=42)"
            ],
            "text/html": [
              "<style>#sk-container-id-1 {\n",
              "  /* Definition of color scheme common for light and dark mode */\n",
              "  --sklearn-color-text: #000;\n",
              "  --sklearn-color-text-muted: #666;\n",
              "  --sklearn-color-line: gray;\n",
              "  /* Definition of color scheme for unfitted estimators */\n",
              "  --sklearn-color-unfitted-level-0: #fff5e6;\n",
              "  --sklearn-color-unfitted-level-1: #f6e4d2;\n",
              "  --sklearn-color-unfitted-level-2: #ffe0b3;\n",
              "  --sklearn-color-unfitted-level-3: chocolate;\n",
              "  /* Definition of color scheme for fitted estimators */\n",
              "  --sklearn-color-fitted-level-0: #f0f8ff;\n",
              "  --sklearn-color-fitted-level-1: #d4ebff;\n",
              "  --sklearn-color-fitted-level-2: #b3dbfd;\n",
              "  --sklearn-color-fitted-level-3: cornflowerblue;\n",
              "\n",
              "  /* Specific color for light theme */\n",
              "  --sklearn-color-text-on-default-background: var(--sg-text-color, var(--theme-code-foreground, var(--jp-content-font-color1, black)));\n",
              "  --sklearn-color-background: var(--sg-background-color, var(--theme-background, var(--jp-layout-color0, white)));\n",
              "  --sklearn-color-border-box: var(--sg-text-color, var(--theme-code-foreground, var(--jp-content-font-color1, black)));\n",
              "  --sklearn-color-icon: #696969;\n",
              "\n",
              "  @media (prefers-color-scheme: dark) {\n",
              "    /* Redefinition of color scheme for dark theme */\n",
              "    --sklearn-color-text-on-default-background: var(--sg-text-color, var(--theme-code-foreground, var(--jp-content-font-color1, white)));\n",
              "    --sklearn-color-background: var(--sg-background-color, var(--theme-background, var(--jp-layout-color0, #111)));\n",
              "    --sklearn-color-border-box: var(--sg-text-color, var(--theme-code-foreground, var(--jp-content-font-color1, white)));\n",
              "    --sklearn-color-icon: #878787;\n",
              "  }\n",
              "}\n",
              "\n",
              "#sk-container-id-1 {\n",
              "  color: var(--sklearn-color-text);\n",
              "}\n",
              "\n",
              "#sk-container-id-1 pre {\n",
              "  padding: 0;\n",
              "}\n",
              "\n",
              "#sk-container-id-1 input.sk-hidden--visually {\n",
              "  border: 0;\n",
              "  clip: rect(1px 1px 1px 1px);\n",
              "  clip: rect(1px, 1px, 1px, 1px);\n",
              "  height: 1px;\n",
              "  margin: -1px;\n",
              "  overflow: hidden;\n",
              "  padding: 0;\n",
              "  position: absolute;\n",
              "  width: 1px;\n",
              "}\n",
              "\n",
              "#sk-container-id-1 div.sk-dashed-wrapped {\n",
              "  border: 1px dashed var(--sklearn-color-line);\n",
              "  margin: 0 0.4em 0.5em 0.4em;\n",
              "  box-sizing: border-box;\n",
              "  padding-bottom: 0.4em;\n",
              "  background-color: var(--sklearn-color-background);\n",
              "}\n",
              "\n",
              "#sk-container-id-1 div.sk-container {\n",
              "  /* jupyter's `normalize.less` sets `[hidden] { display: none; }`\n",
              "     but bootstrap.min.css set `[hidden] { display: none !important; }`\n",
              "     so we also need the `!important` here to be able to override the\n",
              "     default hidden behavior on the sphinx rendered scikit-learn.org.\n",
              "     See: https://github.com/scikit-learn/scikit-learn/issues/21755 */\n",
              "  display: inline-block !important;\n",
              "  position: relative;\n",
              "}\n",
              "\n",
              "#sk-container-id-1 div.sk-text-repr-fallback {\n",
              "  display: none;\n",
              "}\n",
              "\n",
              "div.sk-parallel-item,\n",
              "div.sk-serial,\n",
              "div.sk-item {\n",
              "  /* draw centered vertical line to link estimators */\n",
              "  background-image: linear-gradient(var(--sklearn-color-text-on-default-background), var(--sklearn-color-text-on-default-background));\n",
              "  background-size: 2px 100%;\n",
              "  background-repeat: no-repeat;\n",
              "  background-position: center center;\n",
              "}\n",
              "\n",
              "/* Parallel-specific style estimator block */\n",
              "\n",
              "#sk-container-id-1 div.sk-parallel-item::after {\n",
              "  content: \"\";\n",
              "  width: 100%;\n",
              "  border-bottom: 2px solid var(--sklearn-color-text-on-default-background);\n",
              "  flex-grow: 1;\n",
              "}\n",
              "\n",
              "#sk-container-id-1 div.sk-parallel {\n",
              "  display: flex;\n",
              "  align-items: stretch;\n",
              "  justify-content: center;\n",
              "  background-color: var(--sklearn-color-background);\n",
              "  position: relative;\n",
              "}\n",
              "\n",
              "#sk-container-id-1 div.sk-parallel-item {\n",
              "  display: flex;\n",
              "  flex-direction: column;\n",
              "}\n",
              "\n",
              "#sk-container-id-1 div.sk-parallel-item:first-child::after {\n",
              "  align-self: flex-end;\n",
              "  width: 50%;\n",
              "}\n",
              "\n",
              "#sk-container-id-1 div.sk-parallel-item:last-child::after {\n",
              "  align-self: flex-start;\n",
              "  width: 50%;\n",
              "}\n",
              "\n",
              "#sk-container-id-1 div.sk-parallel-item:only-child::after {\n",
              "  width: 0;\n",
              "}\n",
              "\n",
              "/* Serial-specific style estimator block */\n",
              "\n",
              "#sk-container-id-1 div.sk-serial {\n",
              "  display: flex;\n",
              "  flex-direction: column;\n",
              "  align-items: center;\n",
              "  background-color: var(--sklearn-color-background);\n",
              "  padding-right: 1em;\n",
              "  padding-left: 1em;\n",
              "}\n",
              "\n",
              "\n",
              "/* Toggleable style: style used for estimator/Pipeline/ColumnTransformer box that is\n",
              "clickable and can be expanded/collapsed.\n",
              "- Pipeline and ColumnTransformer use this feature and define the default style\n",
              "- Estimators will overwrite some part of the style using the `sk-estimator` class\n",
              "*/\n",
              "\n",
              "/* Pipeline and ColumnTransformer style (default) */\n",
              "\n",
              "#sk-container-id-1 div.sk-toggleable {\n",
              "  /* Default theme specific background. It is overwritten whether we have a\n",
              "  specific estimator or a Pipeline/ColumnTransformer */\n",
              "  background-color: var(--sklearn-color-background);\n",
              "}\n",
              "\n",
              "/* Toggleable label */\n",
              "#sk-container-id-1 label.sk-toggleable__label {\n",
              "  cursor: pointer;\n",
              "  display: flex;\n",
              "  width: 100%;\n",
              "  margin-bottom: 0;\n",
              "  padding: 0.5em;\n",
              "  box-sizing: border-box;\n",
              "  text-align: center;\n",
              "  align-items: start;\n",
              "  justify-content: space-between;\n",
              "  gap: 0.5em;\n",
              "}\n",
              "\n",
              "#sk-container-id-1 label.sk-toggleable__label .caption {\n",
              "  font-size: 0.6rem;\n",
              "  font-weight: lighter;\n",
              "  color: var(--sklearn-color-text-muted);\n",
              "}\n",
              "\n",
              "#sk-container-id-1 label.sk-toggleable__label-arrow:before {\n",
              "  /* Arrow on the left of the label */\n",
              "  content: \"▸\";\n",
              "  float: left;\n",
              "  margin-right: 0.25em;\n",
              "  color: var(--sklearn-color-icon);\n",
              "}\n",
              "\n",
              "#sk-container-id-1 label.sk-toggleable__label-arrow:hover:before {\n",
              "  color: var(--sklearn-color-text);\n",
              "}\n",
              "\n",
              "/* Toggleable content - dropdown */\n",
              "\n",
              "#sk-container-id-1 div.sk-toggleable__content {\n",
              "  max-height: 0;\n",
              "  max-width: 0;\n",
              "  overflow: hidden;\n",
              "  text-align: left;\n",
              "  /* unfitted */\n",
              "  background-color: var(--sklearn-color-unfitted-level-0);\n",
              "}\n",
              "\n",
              "#sk-container-id-1 div.sk-toggleable__content.fitted {\n",
              "  /* fitted */\n",
              "  background-color: var(--sklearn-color-fitted-level-0);\n",
              "}\n",
              "\n",
              "#sk-container-id-1 div.sk-toggleable__content pre {\n",
              "  margin: 0.2em;\n",
              "  border-radius: 0.25em;\n",
              "  color: var(--sklearn-color-text);\n",
              "  /* unfitted */\n",
              "  background-color: var(--sklearn-color-unfitted-level-0);\n",
              "}\n",
              "\n",
              "#sk-container-id-1 div.sk-toggleable__content.fitted pre {\n",
              "  /* unfitted */\n",
              "  background-color: var(--sklearn-color-fitted-level-0);\n",
              "}\n",
              "\n",
              "#sk-container-id-1 input.sk-toggleable__control:checked~div.sk-toggleable__content {\n",
              "  /* Expand drop-down */\n",
              "  max-height: 200px;\n",
              "  max-width: 100%;\n",
              "  overflow: auto;\n",
              "}\n",
              "\n",
              "#sk-container-id-1 input.sk-toggleable__control:checked~label.sk-toggleable__label-arrow:before {\n",
              "  content: \"▾\";\n",
              "}\n",
              "\n",
              "/* Pipeline/ColumnTransformer-specific style */\n",
              "\n",
              "#sk-container-id-1 div.sk-label input.sk-toggleable__control:checked~label.sk-toggleable__label {\n",
              "  color: var(--sklearn-color-text);\n",
              "  background-color: var(--sklearn-color-unfitted-level-2);\n",
              "}\n",
              "\n",
              "#sk-container-id-1 div.sk-label.fitted input.sk-toggleable__control:checked~label.sk-toggleable__label {\n",
              "  background-color: var(--sklearn-color-fitted-level-2);\n",
              "}\n",
              "\n",
              "/* Estimator-specific style */\n",
              "\n",
              "/* Colorize estimator box */\n",
              "#sk-container-id-1 div.sk-estimator input.sk-toggleable__control:checked~label.sk-toggleable__label {\n",
              "  /* unfitted */\n",
              "  background-color: var(--sklearn-color-unfitted-level-2);\n",
              "}\n",
              "\n",
              "#sk-container-id-1 div.sk-estimator.fitted input.sk-toggleable__control:checked~label.sk-toggleable__label {\n",
              "  /* fitted */\n",
              "  background-color: var(--sklearn-color-fitted-level-2);\n",
              "}\n",
              "\n",
              "#sk-container-id-1 div.sk-label label.sk-toggleable__label,\n",
              "#sk-container-id-1 div.sk-label label {\n",
              "  /* The background is the default theme color */\n",
              "  color: var(--sklearn-color-text-on-default-background);\n",
              "}\n",
              "\n",
              "/* On hover, darken the color of the background */\n",
              "#sk-container-id-1 div.sk-label:hover label.sk-toggleable__label {\n",
              "  color: var(--sklearn-color-text);\n",
              "  background-color: var(--sklearn-color-unfitted-level-2);\n",
              "}\n",
              "\n",
              "/* Label box, darken color on hover, fitted */\n",
              "#sk-container-id-1 div.sk-label.fitted:hover label.sk-toggleable__label.fitted {\n",
              "  color: var(--sklearn-color-text);\n",
              "  background-color: var(--sklearn-color-fitted-level-2);\n",
              "}\n",
              "\n",
              "/* Estimator label */\n",
              "\n",
              "#sk-container-id-1 div.sk-label label {\n",
              "  font-family: monospace;\n",
              "  font-weight: bold;\n",
              "  display: inline-block;\n",
              "  line-height: 1.2em;\n",
              "}\n",
              "\n",
              "#sk-container-id-1 div.sk-label-container {\n",
              "  text-align: center;\n",
              "}\n",
              "\n",
              "/* Estimator-specific */\n",
              "#sk-container-id-1 div.sk-estimator {\n",
              "  font-family: monospace;\n",
              "  border: 1px dotted var(--sklearn-color-border-box);\n",
              "  border-radius: 0.25em;\n",
              "  box-sizing: border-box;\n",
              "  margin-bottom: 0.5em;\n",
              "  /* unfitted */\n",
              "  background-color: var(--sklearn-color-unfitted-level-0);\n",
              "}\n",
              "\n",
              "#sk-container-id-1 div.sk-estimator.fitted {\n",
              "  /* fitted */\n",
              "  background-color: var(--sklearn-color-fitted-level-0);\n",
              "}\n",
              "\n",
              "/* on hover */\n",
              "#sk-container-id-1 div.sk-estimator:hover {\n",
              "  /* unfitted */\n",
              "  background-color: var(--sklearn-color-unfitted-level-2);\n",
              "}\n",
              "\n",
              "#sk-container-id-1 div.sk-estimator.fitted:hover {\n",
              "  /* fitted */\n",
              "  background-color: var(--sklearn-color-fitted-level-2);\n",
              "}\n",
              "\n",
              "/* Specification for estimator info (e.g. \"i\" and \"?\") */\n",
              "\n",
              "/* Common style for \"i\" and \"?\" */\n",
              "\n",
              ".sk-estimator-doc-link,\n",
              "a:link.sk-estimator-doc-link,\n",
              "a:visited.sk-estimator-doc-link {\n",
              "  float: right;\n",
              "  font-size: smaller;\n",
              "  line-height: 1em;\n",
              "  font-family: monospace;\n",
              "  background-color: var(--sklearn-color-background);\n",
              "  border-radius: 1em;\n",
              "  height: 1em;\n",
              "  width: 1em;\n",
              "  text-decoration: none !important;\n",
              "  margin-left: 0.5em;\n",
              "  text-align: center;\n",
              "  /* unfitted */\n",
              "  border: var(--sklearn-color-unfitted-level-1) 1pt solid;\n",
              "  color: var(--sklearn-color-unfitted-level-1);\n",
              "}\n",
              "\n",
              ".sk-estimator-doc-link.fitted,\n",
              "a:link.sk-estimator-doc-link.fitted,\n",
              "a:visited.sk-estimator-doc-link.fitted {\n",
              "  /* fitted */\n",
              "  border: var(--sklearn-color-fitted-level-1) 1pt solid;\n",
              "  color: var(--sklearn-color-fitted-level-1);\n",
              "}\n",
              "\n",
              "/* On hover */\n",
              "div.sk-estimator:hover .sk-estimator-doc-link:hover,\n",
              ".sk-estimator-doc-link:hover,\n",
              "div.sk-label-container:hover .sk-estimator-doc-link:hover,\n",
              ".sk-estimator-doc-link:hover {\n",
              "  /* unfitted */\n",
              "  background-color: var(--sklearn-color-unfitted-level-3);\n",
              "  color: var(--sklearn-color-background);\n",
              "  text-decoration: none;\n",
              "}\n",
              "\n",
              "div.sk-estimator.fitted:hover .sk-estimator-doc-link.fitted:hover,\n",
              ".sk-estimator-doc-link.fitted:hover,\n",
              "div.sk-label-container:hover .sk-estimator-doc-link.fitted:hover,\n",
              ".sk-estimator-doc-link.fitted:hover {\n",
              "  /* fitted */\n",
              "  background-color: var(--sklearn-color-fitted-level-3);\n",
              "  color: var(--sklearn-color-background);\n",
              "  text-decoration: none;\n",
              "}\n",
              "\n",
              "/* Span, style for the box shown on hovering the info icon */\n",
              ".sk-estimator-doc-link span {\n",
              "  display: none;\n",
              "  z-index: 9999;\n",
              "  position: relative;\n",
              "  font-weight: normal;\n",
              "  right: .2ex;\n",
              "  padding: .5ex;\n",
              "  margin: .5ex;\n",
              "  width: min-content;\n",
              "  min-width: 20ex;\n",
              "  max-width: 50ex;\n",
              "  color: var(--sklearn-color-text);\n",
              "  box-shadow: 2pt 2pt 4pt #999;\n",
              "  /* unfitted */\n",
              "  background: var(--sklearn-color-unfitted-level-0);\n",
              "  border: .5pt solid var(--sklearn-color-unfitted-level-3);\n",
              "}\n",
              "\n",
              ".sk-estimator-doc-link.fitted span {\n",
              "  /* fitted */\n",
              "  background: var(--sklearn-color-fitted-level-0);\n",
              "  border: var(--sklearn-color-fitted-level-3);\n",
              "}\n",
              "\n",
              ".sk-estimator-doc-link:hover span {\n",
              "  display: block;\n",
              "}\n",
              "\n",
              "/* \"?\"-specific style due to the `<a>` HTML tag */\n",
              "\n",
              "#sk-container-id-1 a.estimator_doc_link {\n",
              "  float: right;\n",
              "  font-size: 1rem;\n",
              "  line-height: 1em;\n",
              "  font-family: monospace;\n",
              "  background-color: var(--sklearn-color-background);\n",
              "  border-radius: 1rem;\n",
              "  height: 1rem;\n",
              "  width: 1rem;\n",
              "  text-decoration: none;\n",
              "  /* unfitted */\n",
              "  color: var(--sklearn-color-unfitted-level-1);\n",
              "  border: var(--sklearn-color-unfitted-level-1) 1pt solid;\n",
              "}\n",
              "\n",
              "#sk-container-id-1 a.estimator_doc_link.fitted {\n",
              "  /* fitted */\n",
              "  border: var(--sklearn-color-fitted-level-1) 1pt solid;\n",
              "  color: var(--sklearn-color-fitted-level-1);\n",
              "}\n",
              "\n",
              "/* On hover */\n",
              "#sk-container-id-1 a.estimator_doc_link:hover {\n",
              "  /* unfitted */\n",
              "  background-color: var(--sklearn-color-unfitted-level-3);\n",
              "  color: var(--sklearn-color-background);\n",
              "  text-decoration: none;\n",
              "}\n",
              "\n",
              "#sk-container-id-1 a.estimator_doc_link.fitted:hover {\n",
              "  /* fitted */\n",
              "  background-color: var(--sklearn-color-fitted-level-3);\n",
              "}\n",
              "</style><div id=\"sk-container-id-1\" class=\"sk-top-container\"><div class=\"sk-text-repr-fallback\"><pre>DecisionTreeClassifier(class_weight=&#x27;balanced&#x27;, max_depth=4, random_state=42)</pre><b>In a Jupyter environment, please rerun this cell to show the HTML representation or trust the notebook. <br />On GitHub, the HTML representation is unable to render, please try loading this page with nbviewer.org.</b></div><div class=\"sk-container\" hidden><div class=\"sk-item\"><div class=\"sk-estimator fitted sk-toggleable\"><input class=\"sk-toggleable__control sk-hidden--visually\" id=\"sk-estimator-id-1\" type=\"checkbox\" checked><label for=\"sk-estimator-id-1\" class=\"sk-toggleable__label fitted sk-toggleable__label-arrow\"><div><div>DecisionTreeClassifier</div></div><div><a class=\"sk-estimator-doc-link fitted\" rel=\"noreferrer\" target=\"_blank\" href=\"https://scikit-learn.org/1.6/modules/generated/sklearn.tree.DecisionTreeClassifier.html\">?<span>Documentation for DecisionTreeClassifier</span></a><span class=\"sk-estimator-doc-link fitted\">i<span>Fitted</span></span></div></label><div class=\"sk-toggleable__content fitted\"><pre>DecisionTreeClassifier(class_weight=&#x27;balanced&#x27;, max_depth=4, random_state=42)</pre></div> </div></div></div></div>"
            ]
          },
          "metadata": {},
          "execution_count": 34
        }
      ]
    },
    {
      "cell_type": "code",
      "source": [
        "# evaluate the model on the validation set\n",
        "y_val_predictions = dt.predict(X_val)\n",
        "val = accuracy_score(y_val,y_val_predictions)\n",
        "print(val)"
      ],
      "metadata": {
        "id": "_0m-acl-f3d3",
        "colab": {
          "base_uri": "https://localhost:8080/"
        },
        "outputId": "8dd94357-b415-48b2-a5b6-70880d1cb9d9"
      },
      "execution_count": null,
      "outputs": [
        {
          "output_type": "stream",
          "name": "stdout",
          "text": [
            "0.9470443349753694\n"
          ]
        }
      ]
    },
    {
      "cell_type": "code",
      "source": [
        "#getting the accuracy, recall, and f1 score to evaluate the model on the test set\n",
        "y_test_predictions = dt.predict(X_test)\n",
        "class_report = classification_report(y_test,y_test_predictions,output_dict=True)\n",
        "print(class_report)"
      ],
      "metadata": {
        "id": "Gx27GHAphXt0",
        "colab": {
          "base_uri": "https://localhost:8080/"
        },
        "outputId": "126deaa8-0f7b-4fe3-e741-e54a5c9b4b20"
      },
      "execution_count": null,
      "outputs": [
        {
          "output_type": "stream",
          "name": "stdout",
          "text": [
            "{'0': {'precision': 0.9878048780487805, 'recall': 0.9418604651162791, 'f1-score': 0.9642857142857143, 'support': 430.0}, '1': {'precision': 0.9379652605459057, 'recall': 0.9869451697127938, 'f1-score': 0.9618320610687023, 'support': 383.0}, 'accuracy': 0.9630996309963099, 'macro avg': {'precision': 0.9628850692973431, 'recall': 0.9644028174145365, 'f1-score': 0.9630588876772084, 'support': 813.0}, 'weighted avg': {'precision': 0.9643256978475492, 'recall': 0.9630996309963099, 'f1-score': 0.9631298112326816, 'support': 813.0}}\n"
          ]
        }
      ]
    },
    {
      "cell_type": "code",
      "source": [
        "# create a heatmap of the classification report\n",
        "report = pd.DataFrame(class_report).transpose()\n",
        "report.rename(index={'0':'edible','1': 'poisonous'}, inplace=True)\n",
        "sns.heatmap(report,annot=True,cbar=False, fmt='.2f')\n",
        "plt.title('Classification Report Metrics')"
      ],
      "metadata": {
        "id": "62WIM00fVVpH",
        "colab": {
          "base_uri": "https://localhost:8080/",
          "height": 469
        },
        "outputId": "9d4e8380-c28a-4545-f80a-d44bb7f21c9d"
      },
      "execution_count": null,
      "outputs": [
        {
          "output_type": "execute_result",
          "data": {
            "text/plain": [
              "Text(0.5, 1.0, 'Classification Report Metrics')"
            ]
          },
          "metadata": {},
          "execution_count": 37
        },
        {
          "output_type": "display_data",
          "data": {
            "text/plain": [
              "<Figure size 640x480 with 1 Axes>"
            ],
            "image/png": "[encoded data removed]"
          },
          "metadata": {}
        }
      ]
    },
    {
      "cell_type": "code",
      "source": [
        "#create a graph displaying the confusion matrix for the decision tree model\n",
        "\n",
        "confusion = confusion_matrix(y_test,y_test_predictions)\n",
        "total = confusion.sum() # get sum of test set observations\n",
        "annot = [[f\"{val}\\n({val/total:.2%})\" for val in row] for row in confusion] # format the annotations\n",
        "sns.heatmap(confusion, annot=annot, fmt=\"\",cmap='Blues')\n",
        "plt.xlabel(\"Predicted\")\n",
        "plt.ylabel(\"Actual\")\n",
        "plt.title('Decision Tree Confusion Matrix')\n",
        "plt.xticks([0.5,1.5],['Negative','Positive'])\n",
        "plt.yticks([0.5,1.5],['Negative','Positive'])"
      ],
      "metadata": {
        "id": "N-XHN0sEiEn2",
        "colab": {
          "base_uri": "https://localhost:8080/",
          "height": 524
        },
        "outputId": "6172ef65-3888-48e8-dad5-14509e95e671"
      },
      "execution_count": null,
      "outputs": [
        {
          "output_type": "execute_result",
          "data": {
            "text/plain": [
              "([<matplotlib.axis.YTick at 0x7d8d52b40750>,\n",
              "  <matplotlib.axis.YTick at 0x7d8d52084e90>],\n",
              " [Text(0, 0.5, 'Negative'), Text(0, 1.5, 'Positive')])"
            ]
          },
          "metadata": {},
          "execution_count": 41
        },
        {
          "output_type": "display_data",
          "data": {
            "text/plain": [
              "<Figure size 640x480 with 2 Axes>"
            ],
            "image/png": "[encoded data removed]"
          },
          "metadata": {}
        }
      ]
    },
    {
      "cell_type": "code",
      "source": [
        "# import necessary modules for k folds cross validation\n",
        "from sklearn.model_selection import KFold\n",
        "from sklearn.model_selection import cross_val_score"
      ],
      "metadata": {
        "id": "wKDavE1nv6jZ"
      },
      "execution_count": null,
      "outputs": []
    },
    {
      "cell_type": "code",
      "source": [
        "#set the number of k folds, perform k fold cross validation\n",
        "k = 10\n",
        "kf = KFold(n_splits=k,shuffle=True,random_state=42)"
      ],
      "metadata": {
        "id": "bOtkyC04wP6d"
      },
      "execution_count": null,
      "outputs": []
    },
    {
      "cell_type": "code",
      "source": [
        "# get the accuracy scores for k fold cross validation\n",
        "k_fold_score = cross_val_score(dt,X_train,y_train, cv=kf,scoring='accuracy')\n",
        "print(\"K Fold Accuracy\\n\" + str(k_fold_score) + \"\\n\")\n",
        "# f1 score\n",
        "k_fold_score = cross_val_score(dt,X_train,y_train, cv=kf,scoring='f1')\n",
        "print(\"K Fold F1\\n\" + str(k_fold_score) + \"\\n\")\n",
        "# roc auc\n",
        "k_fold_score = cross_val_score(dt,X_train,y_train, cv=kf,scoring='roc_auc')\n",
        "print(\"K Fold ROC AUC\\n\" + str(k_fold_score) + \"\\n\")"
      ],
      "metadata": {
        "id": "ctpXvhmSwN1Q",
        "colab": {
          "base_uri": "https://localhost:8080/"
        },
        "outputId": "54d569a5-454c-4034-fbdd-a06467e002b6"
      },
      "execution_count": null,
      "outputs": [
        {
          "output_type": "stream",
          "name": "stdout",
          "text": [
            "K Fold Accuracy\n",
            "[0.95384615 0.95384615 0.96615385 0.95538462 0.96923077 0.96461538\n",
            " 0.95846154 0.98       0.96307692 0.96456086]\n",
            "\n",
            "K Fold F1\n",
            "[0.95426829 0.9516129  0.96529968 0.95299838 0.96805112 0.96308186\n",
            " 0.9569378  0.97971919 0.96428571 0.96354992]\n",
            "\n",
            "K Fold ROC AUC\n",
            "[0.99506197 0.99406776 0.9970019  0.99501905 0.9968833  0.99692785\n",
            " 0.99561416 0.99768466 0.99589745 0.99643822]\n",
            "\n"
          ]
        }
      ]
    }
  ]
}